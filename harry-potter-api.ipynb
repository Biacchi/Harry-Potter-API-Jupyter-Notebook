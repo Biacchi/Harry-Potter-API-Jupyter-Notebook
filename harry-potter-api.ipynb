{
 "cells": [
  {
   "cell_type": "code",
   "execution_count": 1,
   "id": "6d1df297",
   "metadata": {
    "execution": {
     "iopub.execute_input": "2023-10-24T00:13:13.528577Z",
     "iopub.status.busy": "2023-10-24T00:13:13.528036Z",
     "iopub.status.idle": "2023-10-24T00:13:15.377202Z",
     "shell.execute_reply": "2023-10-24T00:13:15.376327Z"
    },
    "papermill": {
     "duration": 1.856826,
     "end_time": "2023-10-24T00:13:15.379718",
     "exception": false,
     "start_time": "2023-10-24T00:13:13.522892",
     "status": "completed"
    },
    "tags": []
   },
   "outputs": [
    {
     "name": "stderr",
     "output_type": "stream",
     "text": [
      "/opt/conda/lib/python3.10/site-packages/scipy/__init__.py:146: UserWarning: A NumPy version >=1.16.5 and <1.23.0 is required for this version of SciPy (detected version 1.23.5\n",
      "  warnings.warn(f\"A NumPy version >={np_minversion} and <{np_maxversion}\"\n"
     ]
    },
    {
     "data": {
      "text/html": [
       "<div>\n",
       "<style scoped>\n",
       "    .dataframe tbody tr th:only-of-type {\n",
       "        vertical-align: middle;\n",
       "    }\n",
       "\n",
       "    .dataframe tbody tr th {\n",
       "        vertical-align: top;\n",
       "    }\n",
       "\n",
       "    .dataframe thead th {\n",
       "        text-align: right;\n",
       "    }\n",
       "</style>\n",
       "<table border=\"1\" class=\"dataframe\">\n",
       "  <thead>\n",
       "    <tr style=\"text-align: right;\">\n",
       "      <th></th>\n",
       "      <th>id</th>\n",
       "      <th>name</th>\n",
       "      <th>alternate_names</th>\n",
       "      <th>species</th>\n",
       "      <th>gender</th>\n",
       "      <th>house</th>\n",
       "      <th>dateOfBirth</th>\n",
       "      <th>yearOfBirth</th>\n",
       "      <th>wizard</th>\n",
       "      <th>ancestry</th>\n",
       "      <th>eyeColour</th>\n",
       "      <th>hairColour</th>\n",
       "      <th>wand</th>\n",
       "      <th>patronus</th>\n",
       "      <th>hogwartsStudent</th>\n",
       "      <th>hogwartsStaff</th>\n",
       "      <th>actor</th>\n",
       "      <th>alternate_actors</th>\n",
       "      <th>alive</th>\n",
       "      <th>image</th>\n",
       "    </tr>\n",
       "  </thead>\n",
       "  <tbody>\n",
       "    <tr>\n",
       "      <th>0</th>\n",
       "      <td>9e3f7ce4-b9a7-4244-b709-dae5c1f1d4a8</td>\n",
       "      <td>Harry Potter</td>\n",
       "      <td>[The Boy Who Lived, The Chosen One]</td>\n",
       "      <td>human</td>\n",
       "      <td>male</td>\n",
       "      <td>Gryffindor</td>\n",
       "      <td>31-07-1980</td>\n",
       "      <td>1980.0</td>\n",
       "      <td>True</td>\n",
       "      <td>half-blood</td>\n",
       "      <td>green</td>\n",
       "      <td>black</td>\n",
       "      <td>{'wood': 'holly', 'core': 'phoenix feather', '...</td>\n",
       "      <td>stag</td>\n",
       "      <td>True</td>\n",
       "      <td>False</td>\n",
       "      <td>Daniel Radcliffe</td>\n",
       "      <td>[]</td>\n",
       "      <td>True</td>\n",
       "      <td>https://ik.imagekit.io/hpapi/harry.jpg</td>\n",
       "    </tr>\n",
       "    <tr>\n",
       "      <th>1</th>\n",
       "      <td>4c7e6819-a91a-45b2-a454-f931e4a7cce3</td>\n",
       "      <td>Hermione Granger</td>\n",
       "      <td>[]</td>\n",
       "      <td>human</td>\n",
       "      <td>female</td>\n",
       "      <td>Gryffindor</td>\n",
       "      <td>19-09-1979</td>\n",
       "      <td>1979.0</td>\n",
       "      <td>True</td>\n",
       "      <td>muggleborn</td>\n",
       "      <td>brown</td>\n",
       "      <td>brown</td>\n",
       "      <td>{'wood': 'vine', 'core': 'dragon heartstring',...</td>\n",
       "      <td>otter</td>\n",
       "      <td>True</td>\n",
       "      <td>False</td>\n",
       "      <td>Emma Watson</td>\n",
       "      <td>[]</td>\n",
       "      <td>True</td>\n",
       "      <td>https://ik.imagekit.io/hpapi/hermione.jpeg</td>\n",
       "    </tr>\n",
       "    <tr>\n",
       "      <th>2</th>\n",
       "      <td>c3b1f9a5-b87b-48bf-b00d-95b093ea6390</td>\n",
       "      <td>Ron Weasley</td>\n",
       "      <td>[Dragomir Despard]</td>\n",
       "      <td>human</td>\n",
       "      <td>male</td>\n",
       "      <td>Gryffindor</td>\n",
       "      <td>01-03-1980</td>\n",
       "      <td>1980.0</td>\n",
       "      <td>True</td>\n",
       "      <td>pure-blood</td>\n",
       "      <td>blue</td>\n",
       "      <td>red</td>\n",
       "      <td>{'wood': 'willow', 'core': 'unicorn tail-hair'...</td>\n",
       "      <td>Jack Russell terrier</td>\n",
       "      <td>True</td>\n",
       "      <td>False</td>\n",
       "      <td>Rupert Grint</td>\n",
       "      <td>[]</td>\n",
       "      <td>True</td>\n",
       "      <td>https://ik.imagekit.io/hpapi/ron.jpg</td>\n",
       "    </tr>\n",
       "    <tr>\n",
       "      <th>3</th>\n",
       "      <td>af95bd8a-dfae-45bb-bc69-533860d34129</td>\n",
       "      <td>Draco Malfoy</td>\n",
       "      <td>[]</td>\n",
       "      <td>human</td>\n",
       "      <td>male</td>\n",
       "      <td>Slytherin</td>\n",
       "      <td>05-06-1980</td>\n",
       "      <td>1980.0</td>\n",
       "      <td>True</td>\n",
       "      <td>pure-blood</td>\n",
       "      <td>grey</td>\n",
       "      <td>blonde</td>\n",
       "      <td>{'wood': 'hawthorn', 'core': 'unicorn tail-hai...</td>\n",
       "      <td></td>\n",
       "      <td>True</td>\n",
       "      <td>False</td>\n",
       "      <td>Tom Felton</td>\n",
       "      <td>[]</td>\n",
       "      <td>True</td>\n",
       "      <td>https://ik.imagekit.io/hpapi/draco.jpg</td>\n",
       "    </tr>\n",
       "    <tr>\n",
       "      <th>4</th>\n",
       "      <td>ca3827f0-375a-4891-aaa5-f5e8a5bad225</td>\n",
       "      <td>Minerva McGonagall</td>\n",
       "      <td>[]</td>\n",
       "      <td>human</td>\n",
       "      <td>female</td>\n",
       "      <td>Gryffindor</td>\n",
       "      <td>04-10-1925</td>\n",
       "      <td>1925.0</td>\n",
       "      <td>True</td>\n",
       "      <td>half-blood</td>\n",
       "      <td></td>\n",
       "      <td>black</td>\n",
       "      <td>{'wood': 'fir', 'core': 'dragon heartstring', ...</td>\n",
       "      <td>tabby cat</td>\n",
       "      <td>False</td>\n",
       "      <td>True</td>\n",
       "      <td>Dame Maggie Smith</td>\n",
       "      <td>[]</td>\n",
       "      <td>True</td>\n",
       "      <td>https://ik.imagekit.io/hpapi/mcgonagall.jpg</td>\n",
       "    </tr>\n",
       "  </tbody>\n",
       "</table>\n",
       "</div>"
      ],
      "text/plain": [
       "                                     id                name  \\\n",
       "0  9e3f7ce4-b9a7-4244-b709-dae5c1f1d4a8        Harry Potter   \n",
       "1  4c7e6819-a91a-45b2-a454-f931e4a7cce3    Hermione Granger   \n",
       "2  c3b1f9a5-b87b-48bf-b00d-95b093ea6390         Ron Weasley   \n",
       "3  af95bd8a-dfae-45bb-bc69-533860d34129        Draco Malfoy   \n",
       "4  ca3827f0-375a-4891-aaa5-f5e8a5bad225  Minerva McGonagall   \n",
       "\n",
       "                       alternate_names species  gender       house  \\\n",
       "0  [The Boy Who Lived, The Chosen One]   human    male  Gryffindor   \n",
       "1                                   []   human  female  Gryffindor   \n",
       "2                   [Dragomir Despard]   human    male  Gryffindor   \n",
       "3                                   []   human    male   Slytherin   \n",
       "4                                   []   human  female  Gryffindor   \n",
       "\n",
       "  dateOfBirth  yearOfBirth  wizard    ancestry eyeColour hairColour  \\\n",
       "0  31-07-1980       1980.0    True  half-blood     green      black   \n",
       "1  19-09-1979       1979.0    True  muggleborn     brown      brown   \n",
       "2  01-03-1980       1980.0    True  pure-blood      blue        red   \n",
       "3  05-06-1980       1980.0    True  pure-blood      grey     blonde   \n",
       "4  04-10-1925       1925.0    True  half-blood                black   \n",
       "\n",
       "                                                wand              patronus  \\\n",
       "0  {'wood': 'holly', 'core': 'phoenix feather', '...                  stag   \n",
       "1  {'wood': 'vine', 'core': 'dragon heartstring',...                 otter   \n",
       "2  {'wood': 'willow', 'core': 'unicorn tail-hair'...  Jack Russell terrier   \n",
       "3  {'wood': 'hawthorn', 'core': 'unicorn tail-hai...                         \n",
       "4  {'wood': 'fir', 'core': 'dragon heartstring', ...             tabby cat   \n",
       "\n",
       "   hogwartsStudent  hogwartsStaff              actor alternate_actors  alive  \\\n",
       "0             True          False   Daniel Radcliffe               []   True   \n",
       "1             True          False        Emma Watson               []   True   \n",
       "2             True          False       Rupert Grint               []   True   \n",
       "3             True          False         Tom Felton               []   True   \n",
       "4            False           True  Dame Maggie Smith               []   True   \n",
       "\n",
       "                                         image  \n",
       "0       https://ik.imagekit.io/hpapi/harry.jpg  \n",
       "1   https://ik.imagekit.io/hpapi/hermione.jpeg  \n",
       "2         https://ik.imagekit.io/hpapi/ron.jpg  \n",
       "3       https://ik.imagekit.io/hpapi/draco.jpg  \n",
       "4  https://ik.imagekit.io/hpapi/mcgonagall.jpg  "
      ]
     },
     "execution_count": 1,
     "metadata": {},
     "output_type": "execute_result"
    }
   ],
   "source": [
    "import requests\n",
    "import pandas as pd\n",
    "import json\n",
    "import seaborn as sns\n",
    "import matplotlib.pyplot as plt\n",
    "\n",
    "# Make API request\n",
    "response = requests.get(\"https://hp-api.onrender.com/api/characters\")\n",
    "\n",
    "# Check if request was successful\n",
    "if response.status_code == 200:\n",
    "    # Convert response to JSON format\n",
    "    data = response.json()\n",
    "    # Convert JSON data to string\n",
    "    json_data = json.dumps(data)\n",
    "    # Convert JSON string to Pandas DataFrame\n",
    "    df = pd.read_json(json_data)\n",
    "    # Perform further analysis or visualization on data\n",
    "else:\n",
    "    print('Error: API request unsuccessful')\n",
    "\n",
    "df.head()"
   ]
  },
  {
   "cell_type": "code",
   "execution_count": 2,
   "id": "57f2522f",
   "metadata": {
    "execution": {
     "iopub.execute_input": "2023-10-24T00:13:15.388748Z",
     "iopub.status.busy": "2023-10-24T00:13:15.387996Z",
     "iopub.status.idle": "2023-10-24T00:13:15.417627Z",
     "shell.execute_reply": "2023-10-24T00:13:15.416286Z"
    },
    "papermill": {
     "duration": 0.036871,
     "end_time": "2023-10-24T00:13:15.420196",
     "exception": false,
     "start_time": "2023-10-24T00:13:15.383325",
     "status": "completed"
    },
    "tags": []
   },
   "outputs": [
    {
     "name": "stdout",
     "output_type": "stream",
     "text": [
      "<class 'pandas.core.frame.DataFrame'>\n",
      "RangeIndex: 402 entries, 0 to 401\n",
      "Data columns (total 20 columns):\n",
      " #   Column            Non-Null Count  Dtype  \n",
      "---  ------            --------------  -----  \n",
      " 0   id                402 non-null    object \n",
      " 1   name              402 non-null    object \n",
      " 2   alternate_names   402 non-null    object \n",
      " 3   species           402 non-null    object \n",
      " 4   gender            402 non-null    object \n",
      " 5   house             402 non-null    object \n",
      " 6   dateOfBirth       19 non-null     object \n",
      " 7   yearOfBirth       23 non-null     float64\n",
      " 8   wizard            402 non-null    bool   \n",
      " 9   ancestry          402 non-null    object \n",
      " 10  eyeColour         402 non-null    object \n",
      " 11  hairColour        402 non-null    object \n",
      " 12  wand              402 non-null    object \n",
      " 13  patronus          402 non-null    object \n",
      " 14  hogwartsStudent   402 non-null    bool   \n",
      " 15  hogwartsStaff     402 non-null    bool   \n",
      " 16  actor             402 non-null    object \n",
      " 17  alternate_actors  402 non-null    object \n",
      " 18  alive             402 non-null    bool   \n",
      " 19  image             402 non-null    object \n",
      "dtypes: bool(4), float64(1), object(15)\n",
      "memory usage: 51.9+ KB\n"
     ]
    }
   ],
   "source": [
    "df.info()"
   ]
  },
  {
   "cell_type": "code",
   "execution_count": 3,
   "id": "5ba6e956",
   "metadata": {
    "execution": {
     "iopub.execute_input": "2023-10-24T00:13:15.429994Z",
     "iopub.status.busy": "2023-10-24T00:13:15.429005Z",
     "iopub.status.idle": "2023-10-24T00:13:15.788954Z",
     "shell.execute_reply": "2023-10-24T00:13:15.786541Z"
    },
    "papermill": {
     "duration": 0.367915,
     "end_time": "2023-10-24T00:13:15.791904",
     "exception": false,
     "start_time": "2023-10-24T00:13:15.423989",
     "status": "completed"
    },
    "tags": []
   },
   "outputs": [
    {
     "data": {
      "text/plain": [
       "<Axes: xlabel='yearOfBirth', ylabel='Count'>"
      ]
     },
     "execution_count": 3,
     "metadata": {},
     "output_type": "execute_result"
    },
    {
     "data": {
      "image/png": "[encoded data removed]",
      "text/plain": [
       "<Figure size 640x480 with 1 Axes>"
      ]
     },
     "metadata": {},
     "output_type": "display_data"
    }
   ],
   "source": [
    "sns.histplot(df, x=\"yearOfBirth\")"
   ]
  },
  {
   "cell_type": "code",
   "execution_count": 4,
   "id": "23ce8e9b",
   "metadata": {
    "execution": {
     "iopub.execute_input": "2023-10-24T00:13:15.802560Z",
     "iopub.status.busy": "2023-10-24T00:13:15.801494Z",
     "iopub.status.idle": "2023-10-24T00:13:16.067919Z",
     "shell.execute_reply": "2023-10-24T00:13:16.066622Z"
    },
    "papermill": {
     "duration": 0.274717,
     "end_time": "2023-10-24T00:13:16.070731",
     "exception": false,
     "start_time": "2023-10-24T00:13:15.796014",
     "status": "completed"
    },
    "tags": []
   },
   "outputs": [
    {
     "data": {
      "text/plain": [
       "<Axes: xlabel='house', ylabel='count'>"
      ]
     },
     "execution_count": 4,
     "metadata": {},
     "output_type": "execute_result"
    },
    {
     "data": {
      "image/png": "[encoded data removed]",
      "text/plain": [
       "<Figure size 640x480 with 1 Axes>"
      ]
     },
     "metadata": {},
     "output_type": "display_data"
    }
   ],
   "source": [
    "sns.countplot(df, x=\"house\")"
   ]
  },
  {
   "cell_type": "code",
   "execution_count": 5,
   "id": "4d8451f1",
   "metadata": {
    "execution": {
     "iopub.execute_input": "2023-10-24T00:13:16.081689Z",
     "iopub.status.busy": "2023-10-24T00:13:16.081231Z",
     "iopub.status.idle": "2023-10-24T00:13:16.511976Z",
     "shell.execute_reply": "2023-10-24T00:13:16.510766Z"
    },
    "papermill": {
     "duration": 0.439154,
     "end_time": "2023-10-24T00:13:16.514549",
     "exception": false,
     "start_time": "2023-10-24T00:13:16.075395",
     "status": "completed"
    },
    "tags": []
   },
   "outputs": [
    {
     "data": {
      "text/plain": [
       "<Axes: xlabel='hairColour', ylabel='count'>"
      ]
     },
     "execution_count": 5,
     "metadata": {},
     "output_type": "execute_result"
    },
    {
     "data": {
      "image/png": "[encoded data removed]",
      "text/plain": [
       "<Figure size 1200x1000 with 1 Axes>"
      ]
     },
     "metadata": {},
     "output_type": "display_data"
    }
   ],
   "source": [
    "plt.figure(figsize=(12, 10)) \n",
    "\n",
    "sns.countplot(df, x=\"hairColour\")"
   ]
  }
 ],
 "metadata": {
  "kernelspec": {
   "display_name": "Python 3",
   "language": "python",
   "name": "python3"
  },
  "language_info": {
   "codemirror_mode": {
    "name": "ipython",
    "version": 3
   },
   "file_extension": ".py",
   "mimetype": "text/x-python",
   "name": "python",
   "nbconvert_exporter": "python",
   "pygments_lexer": "ipython3",
   "version": "3.10.12"
  },
  "papermill": {
   "default_parameters": {},
   "duration": 17.668309,
   "end_time": "2023-10-24T00:13:17.545999",
   "environment_variables": {},
   "exception": null,
   "input_path": "__notebook__.ipynb",
   "output_path": "__notebook__.ipynb",
   "parameters": {},
   "start_time": "2023-10-24T00:12:59.877690",
   "version": "2.4.0"
  }
 },
 "nbformat": 4,
 "nbformat_minor": 5
}
